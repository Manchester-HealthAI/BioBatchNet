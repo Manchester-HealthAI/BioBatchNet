{
 "cells": [
  {
   "cell_type": "code",
   "execution_count": 2,
   "metadata": {},
   "outputs": [],
   "source": [
    "def extract_latent_space(data, model):\n",
    "    model.eval()\n",
    "    bio_z, mu1, logvar1, batch_z, batch_mu, batch_logvar, bio_batch_pred, batch_batch_pred, _mean, _disp, _pi, size_factor, size_mu, size_logvar = model(data)\n",
    "    z1 = bio_z\n",
    "    z2 = batch_z\n",
    "    return z1.detach().cpu().numpy(), z2.detach().cpu().numpy(), _mean.detach().cpu().numpy(), _disp.detach().cpu().numpy(), _pi.detach().cpu().numpy()"
   ]
  },
  {
   "cell_type": "code",
   "execution_count": null,
   "metadata": {},
   "outputs": [],
   "source": [
    "import sys\n",
    "import os\n",
    "import importlib\n",
    "\n",
    "scib_path = '/home/haiping_liu/code/My_model/Batch_VAE/Results/scib'\n",
    "if scib_path not in sys.path:\n",
    "    sys.path.append(scib_path)\n",
    "\n",
    "import scib\n",
    "importlib.reload(scib)\n",
    "\n",
    "print(scib.__file__)"
   ]
  },
  {
   "cell_type": "markdown",
   "metadata": {},
   "source": [
    "## Inference and visulization"
   ]
  },
  {
   "cell_type": "code",
   "execution_count": 4,
   "metadata": {},
   "outputs": [],
   "source": [
    "import sys\n",
    "import os\n",
    "\n",
    "project_root = os.path.abspath(os.path.join(os.getcwd(), '../..'))\n",
    "\n",
    "if project_root not in sys.path:\n",
    "    sys.path.append(project_root)\n",
    "\n",
    "from models.model import GeneVAE\n",
    "from utils.dataset import GeneralDataset, GeneDataset"
   ]
  },
  {
   "cell_type": "code",
   "execution_count": null,
   "metadata": {},
   "outputs": [],
   "source": [
    "import torch\n",
    "import numpy as np\n",
    "from torch.utils.data import DataLoader\n",
    "import torch\n",
    "import pandas as pd\n",
    "import scanpy as sc\n",
    "import matplotlib.pyplot as plt\n",
    "import numpy as np\n",
    "\n",
    "# load model\n",
    "checkpoint_path = '/home/haiping_liu/code/My_model/Batch_VAE1/saved/models/Immune/1228_194336/checkpoint-epoch65.pth'\n",
    "checkpoint = torch.load(checkpoint_path)\n",
    "config = checkpoint['config']._config if hasattr(checkpoint['config'], '_config') else checkpoint['config']\n",
    "config_args = config['arch']['args']\n",
    "model = GeneVAE(**config_args)\n",
    "checkpoint = torch.load(checkpoint_path)\n",
    "model.load_state_dict(checkpoint['state_dict'])\n",
    "\n",
    "data_dir = \"/home/haiping_liu/code/My_model/Batch_VAE1/Data/Gene_data/csv_format/human_immune.csv\"\n",
    "train_dataset = GeneDataset(data_dir)\n",
    "dataloader = DataLoader(train_dataset, shuffle=False, batch_size=128)\n",
    "\n",
    "cell_types = []\n",
    "latent = []\n",
    "batch_ids = []\n",
    "combine_z2 = []\n",
    "\n",
    "model.eval()\n",
    "model.to('cuda') \n",
    "with torch.no_grad():\n",
    "    for batch in dataloader:\n",
    "        features, batch_id, cell_type = batch\n",
    "        features = features.to('cuda')\n",
    "        cell_type = cell_type.to('cuda')\n",
    "        batch_id = batch_id.to('cuda')\n",
    "        z1, z2, _mean, _disp, _pi = extract_latent_space(features, model)\n",
    "\n",
    "        latent.append(z1)\n",
    "        combine_z2.append(z2)\n",
    "        cell_types.append(cell_type.cpu().numpy())\n",
    "        batch_ids.append(batch_id.cpu().numpy())\n",
    "\n",
    "latent =  np.concatenate(latent, axis=0)\n",
    "z2 = np.concatenate(combine_z2, axis=0)\n",
    "cell_types = np.concatenate(cell_types, axis=0)\n",
    "batch_ids = np.concatenate(batch_ids, axis=0)\n",
    "\n",
    "# cell_type_names = dataset.cell_type\n",
    "# cell_types_named = [cell_type_names[code] for code in cell_types]\n",
    "data_df = pd.read_csv(data_dir)\n",
    "cell_types = data_df['cell_type'].values \n",
    "batch_ids = data_df['batch'].values \n",
    "\n",
    "adata_z1 = sc.AnnData(latent)\n",
    "adata_z1.obs['batch'] = batch_ids\n",
    "adata_z1.obs['cell_type'] = cell_types"
   ]
  },
  {
   "cell_type": "code",
   "execution_count": null,
   "metadata": {},
   "outputs": [],
   "source": [
    "sc.pp.pca(adata_z1)\n",
    "sc.pp.neighbors(adata_z1, use_rep='X_pca')  \n",
    "sc.tl.umap(adata_z1) \n",
    "sc.pl.umap(adata_z1, color=['batch'] , title=\"UMAP - Batch ID\", size=10)\n",
    "sc.pl.umap(adata_z1, color=['cell_type'] , title=\"UMAP - Batch ID\", size=10)\n",
    "plt.show()"
   ]
  },
  {
   "cell_type": "code",
   "execution_count": 42,
   "metadata": {},
   "outputs": [],
   "source": [
    "import pandas as pd\n",
    "\n",
    "df = pd.DataFrame(adata_z1.X, columns=[f'latent_{i}' for i in range(adata_z1.X.shape[1])])\n",
    "\n",
    "df['BATCH'] = adata_z1.obs['batch'].values\n",
    "df['celltype'] = adata_z1.obs['cell_type'].values\n",
    "\n",
    "df.to_csv('human_berd.csv', index=False)"
   ]
  },
  {
   "cell_type": "code",
   "execution_count": null,
   "metadata": {},
   "outputs": [],
   "source": [
    "sc.pp.subsample(adata_z1, fraction=0.3)\n",
    "sc.pp.neighbors(adata_z1, use_rep='X')  \n",
    "sc.tl.umap(adata_z1) \n",
    "sc.pl.umap(adata_z1, color=['batch', 'cell_type'] , title=\"UMAP - Batch ID\", size=10)\n",
    "plt.show()"
   ]
  },
  {
   "cell_type": "code",
   "execution_count": null,
   "metadata": {},
   "outputs": [],
   "source": [
    "adata_z2 = sc.AnnData(z2)  \n",
    "adata_z2.obs['batch'] = adata_z1.obs['batch'] \n",
    "adata_z2.obs['cell_type'] = adata_z1.obs['cell_type']\n",
    "\n",
    "# visulization\n",
    "sc.pp.subsample(adata_z2, fraction=0.3)\n",
    "sc.pp.neighbors(adata_z2, use_rep='X')  \n",
    "sc.tl.umap(adata_z2) \n",
    "sc.settings.set_figure_params(fontsize=12)  \n",
    "sc.pl.umap(adata_z2, color=['batch', 'cell_type'] , title=\"UMAP - Batch ID\", size=3)\n",
    "plt.show()"
   ]
  },
  {
   "cell_type": "markdown",
   "metadata": {},
   "source": [
    "## Evaluation"
   ]
  },
  {
   "cell_type": "markdown",
   "metadata": {},
   "source": [
    "### 1. Batch effect"
   ]
  },
  {
   "cell_type": "code",
   "execution_count": 38,
   "metadata": {},
   "outputs": [],
   "source": [
    "import scib\n",
    "ilisi_score = scib.metrics.ilisi_graph(adata_z1, batch_key='batch', type_=\"full\")"
   ]
  },
  {
   "cell_type": "code",
   "execution_count": null,
   "metadata": {},
   "outputs": [],
   "source": [
    "scib.me.ilisi_graph(adata_z1, batch_key=\"batch\", type_=\"full\")"
   ]
  },
  {
   "cell_type": "code",
   "execution_count": null,
   "metadata": {},
   "outputs": [],
   "source": [
    "ilisi_score"
   ]
  },
  {
   "cell_type": "code",
   "execution_count": null,
   "metadata": {},
   "outputs": [],
   "source": [
    "scib.me.graph_connectivity(adata_z1, label_key=\"cell_type\")"
   ]
  },
  {
   "cell_type": "code",
   "execution_count": null,
   "metadata": {},
   "outputs": [],
   "source": [
    "scib.me.silhouette_batch(adata_z1, batch_key=\"batch\", label_key=\"cell_type\", embed='X_pca')"
   ]
  },
  {
   "cell_type": "code",
   "execution_count": null,
   "metadata": {},
   "outputs": [],
   "source": [
    "# kbet\n",
    "scib.me.kBET(adata_z1, batch_key=\"batch\", label_key=\"cell_type\", type_=\"embed\", embed=\"X_pca\")"
   ]
  },
  {
   "cell_type": "code",
   "execution_count": null,
   "metadata": {},
   "outputs": [],
   "source": [
    "data_dir = \"/home/haiping_liu/code/My_model/Batch_VAE/Results/data/processed_immune_data.csv\"\n",
    "table = pd.read_csv(data_dir)\n",
    "\n",
    "data = table.iloc[:, 0:2000].values \n",
    "\n",
    "cell_type = table['cell_type'].values\n",
    "batch_id = table['batch'].values\n",
    "\n",
    "# build adata\n",
    "adata = sc.AnnData(data)  \n",
    "adata.obs['batch'] = batch_id \n",
    "adata.obs['cell_type'] = cell_type\n",
    "# sc.pp.neighbors(adata)\n",
    "# sc.tl.umap(adata)\n",
    "\n",
    "scib.me.pcr_comparison(adata, adata_z1, covariate=\"batch\")"
   ]
  },
  {
   "cell_type": "markdown",
   "metadata": {},
   "source": [
    "### 2. Biological information"
   ]
  },
  {
   "cell_type": "code",
   "execution_count": null,
   "metadata": {},
   "outputs": [],
   "source": [
    "sc.pp.neighbors(adata_z1)\n",
    "scib.me.cluster_optimal_resolution(adata_z1, cluster_key=\"cluster\", label_key=\"cell type\")\n",
    "scib.me.ari(adata_z1, cluster_key=\"cluster\", label_key=\"cell type\")"
   ]
  },
  {
   "cell_type": "code",
   "execution_count": null,
   "metadata": {},
   "outputs": [],
   "source": [
    "scib.me.nmi(adata_z1, cluster_key=\"cluster\", label_key=\"cell type\")"
   ]
  },
  {
   "cell_type": "code",
   "execution_count": null,
   "metadata": {},
   "outputs": [],
   "source": [
    "sc.pp.pca(adata_z1)\n",
    "scib.me.silhouette(adata_z1, label_key=\"cell_type\", embed=\"X_pca\")"
   ]
  },
  {
   "cell_type": "code",
   "execution_count": null,
   "metadata": {},
   "outputs": [],
   "source": [
    "from sklearn.metrics import (\n",
    "    adjusted_rand_score,\n",
    "    normalized_mutual_info_score,\n",
    ")\n",
    "\n",
    "sc.tl.leiden(adata_z1, resolution=0.4, key_added='leiden_clusters')\n",
    "sc.settings.set_figure_params(fontsize=12)  \n",
    "sc.pl.umap(adata_z1, color=['leiden_clusters', 'cell_type'], title=\"UMAP - Batch ID and Leiden Clusters\", size=3)\n",
    "\n",
    "cell_type_labels = adata_z1.obs['cell_type']\n",
    "leiden_labels = adata_z1.obs['leiden_clusters']\n",
    "\n",
    "# Adjusted Rand Index (ARI)\n",
    "ari_score = adjusted_rand_score(cell_type_labels, leiden_labels)\n",
    "print(f\"Adjusted Rand Index (ARI) score: {ari_score}\")\n",
    "\n",
    "# Normalized Mutual Information (NMI)\n",
    "nmi_score = normalized_mutual_info_score(cell_type_labels, leiden_labels)\n",
    "print(f\"Normalized Mutual Information (NMI) score: {nmi_score}\")\n",
    "\n",
    "plt.subplots_adjust(wspace=1)\n",
    "plt.show()"
   ]
  }
 ],
 "metadata": {
  "kernelspec": {
   "display_name": "scvi-env",
   "language": "python",
   "name": "python3"
  },
  "language_info": {
   "codemirror_mode": {
    "name": "ipython",
    "version": 3
   },
   "file_extension": ".py",
   "mimetype": "text/x-python",
   "name": "python",
   "nbconvert_exporter": "python",
   "pygments_lexer": "ipython3",
   "version": "3.12.8"
  }
 },
 "nbformat": 4,
 "nbformat_minor": 2
}
