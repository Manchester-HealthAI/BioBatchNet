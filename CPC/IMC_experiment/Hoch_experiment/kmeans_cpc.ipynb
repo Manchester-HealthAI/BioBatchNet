{
 "cells": [
  {
   "cell_type": "code",
   "execution_count": 1,
   "metadata": {},
   "outputs": [],
   "source": [
    "import pandas as pd\n",
    "from sklearn.cluster import KMeans\n",
    "from sklearn.metrics import accuracy_score, adjusted_rand_score, normalized_mutual_info_score\n",
    "import numpy as np"
   ]
  },
  {
   "cell_type": "code",
   "execution_count": 2,
   "metadata": {},
   "outputs": [],
   "source": [
    "table = pd.read_csv('/home/haiping_liu/code/My_model/ImCluster/data/hoch_berd_embed.csv')\n",
    "\n",
    "data = table.iloc[:, 0:20].values\n",
    "batch_id = table.iloc[:, 20].values\n",
    "cell_type = table.iloc[:, 21].values"
   ]
  },
  {
   "cell_type": "markdown",
   "metadata": {},
   "source": [
    "## Kmeans"
   ]
  },
  {
   "cell_type": "code",
   "execution_count": 4,
   "metadata": {},
   "outputs": [
    {
     "name": "stdout",
     "output_type": "stream",
     "text": [
      "   Clusters       ACC       ARI       NMI\n",
      "0         2  0.475638  0.217359  0.187703\n",
      "1         3  0.640013  0.499535  0.411553\n",
      "2         4  0.647339  0.503203  0.437579\n",
      "3         5  0.656969  0.541886  0.442599\n",
      "4         6  0.678798  0.555574  0.464776\n",
      "5         7  0.596734  0.432202  0.457715\n",
      "6         8  0.590521  0.425688  0.465630\n"
     ]
    }
   ],
   "source": [
    "# Function to map predicted labels to true labels\n",
    "def map_labels(true_labels, predicted_labels):\n",
    "    from scipy.optimize import linear_sum_assignment\n",
    "    true_label_set = np.unique(true_labels)\n",
    "    pred_label_set = np.unique(predicted_labels)\n",
    "    cost_matrix = np.zeros((len(true_label_set), len(pred_label_set)))\n",
    "    for i, true_label in enumerate(true_label_set):\n",
    "        for j, pred_label in enumerate(pred_label_set):\n",
    "            cost_matrix[i, j] = np.sum((true_labels == true_label) & (predicted_labels == pred_label))\n",
    "    row_ind, col_ind = linear_sum_assignment(-cost_matrix)\n",
    "    label_map = {pred_label_set[j]: true_label_set[i] for i, j in zip(row_ind, col_ind)}\n",
    "    return np.array([label_map[label] for label in predicted_labels])\n",
    "\n",
    "# Initialize results storage\n",
    "results = []\n",
    "\n",
    "# Loop through cluster numbers from 2 to 10\n",
    "for n_clusters in range(2, 9):\n",
    "    kmeans = KMeans(n_clusters=n_clusters, random_state=42, n_init=10)\n",
    "    kmeans_labels = kmeans.fit_predict(data)\n",
    "    \n",
    "    # Map predicted labels to true labels\n",
    "    mapped_labels = map_labels(cell_type, kmeans_labels)\n",
    "    \n",
    "    # Calculate metrics\n",
    "    acc = accuracy_score(cell_type, mapped_labels)\n",
    "    ari = adjusted_rand_score(cell_type, kmeans_labels)\n",
    "    nmi = normalized_mutual_info_score(cell_type, kmeans_labels)\n",
    "    \n",
    "    # Append results\n",
    "    results.append({\n",
    "        \"Clusters\": n_clusters,\n",
    "        \"ACC\": acc,\n",
    "        \"ARI\": ari,\n",
    "        \"NMI\": nmi\n",
    "    })\n",
    "\n",
    "# Convert results to DataFrame and display\n",
    "results_df = pd.DataFrame(results)\n",
    "print(results_df)"
   ]
  }
 ],
 "metadata": {
  "kernelspec": {
   "display_name": "idea",
   "language": "python",
   "name": "python3"
  },
  "language_info": {
   "codemirror_mode": {
    "name": "ipython",
    "version": 3
   },
   "file_extension": ".py",
   "mimetype": "text/x-python",
   "name": "python",
   "nbconvert_exporter": "python",
   "pygments_lexer": "ipython3",
   "version": "3.8.20"
  }
 },
 "nbformat": 4,
 "nbformat_minor": 2
}
